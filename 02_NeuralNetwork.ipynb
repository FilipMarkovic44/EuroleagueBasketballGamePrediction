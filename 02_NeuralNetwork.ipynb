{
 "cells": [
  {
   "cell_type": "code",
   "execution_count": 1,
   "id": "aaeb0be8",
   "metadata": {},
   "outputs": [],
   "source": [
    "import pandas as pd\n",
    "import numpy as np\n",
    "import matplotlib.pyplot as plt"
   ]
  },
  {
   "cell_type": "code",
   "execution_count": 2,
   "id": "238a68d4",
   "metadata": {},
   "outputs": [],
   "source": [
    "from sklearn import model_selection\n",
    "from sklearn.preprocessing import StandardScaler"
   ]
  },
  {
   "cell_type": "code",
   "execution_count": 3,
   "id": "c7c7655e",
   "metadata": {},
   "outputs": [],
   "source": [
    "from tensorflow.keras.models import Sequential\n",
    "from tensorflow.keras.layers import Input, Dense, Dropout\n",
    "from tensorflow.keras import regularizers"
   ]
  },
  {
   "cell_type": "code",
   "execution_count": 4,
   "id": "93cc5bf0",
   "metadata": {},
   "outputs": [],
   "source": [
    "import keras"
   ]
  },
  {
   "cell_type": "code",
   "execution_count": 5,
   "id": "662cb0bc",
   "metadata": {},
   "outputs": [],
   "source": [
    "seed_value = 7\n",
    "\n",
    "import os\n",
    "os.environ['PYTHONHASHSEED']=str(seed_value)\n",
    "os.environ[\"CUDA_VISIBLE_DEVICES\"] = \"\"\n",
    "\n",
    "import random\n",
    "random.seed(seed_value)\n",
    "\n",
    "np.random.seed(seed_value)\n",
    "\n",
    "import tensorflow as tf\n",
    "tf.random.set_seed(seed_value)\n",
    "\n",
    "import keras.backend as K\n",
    "session_conf = tf.compat.v1.ConfigProto(intra_op_parallelism_threads=1, inter_op_parallelism_threads=1)\n",
    "sess = tf.compat.v1.Session(graph=tf.compat.v1.get_default_graph(), config=session_conf)\n",
    "tf.compat.v1.keras.backend.set_session(sess)"
   ]
  },
  {
   "cell_type": "code",
   "execution_count": 6,
   "id": "cae1f811",
   "metadata": {},
   "outputs": [],
   "source": [
    "df=pd.read_csv(r\"C:\\Users\\filip\\OneDrive\\Documents\\Master 4.0\\4. semestar\\Masinsko ucenje\\euroleague_dset_csv_03_20_upd.csv\")"
   ]
  },
  {
   "cell_type": "code",
   "execution_count": 7,
   "id": "3bcc679a",
   "metadata": {},
   "outputs": [],
   "source": [
    "df['DATE'] = pd.to_datetime(df['DATE'], format='%d.%m.%Y')"
   ]
  },
  {
   "cell_type": "code",
   "execution_count": 8,
   "id": "a43d0206",
   "metadata": {},
   "outputs": [],
   "source": [
    "# Keep only instances from the last 5 seasons\n",
    "df = df[df['DATE'].dt.year >= 2016]"
   ]
  },
  {
   "cell_type": "code",
   "execution_count": 9,
   "id": "10405d63",
   "metadata": {},
   "outputs": [],
   "source": [
    "# Drop the DATE column \n",
    "df = df.drop(columns=['DATE'])"
   ]
  },
  {
   "cell_type": "code",
   "execution_count": 10,
   "id": "282be928",
   "metadata": {},
   "outputs": [],
   "source": [
    "# Replace secondary teams names in 'HT' column\n",
    "df['HT'] = df['HT'].replace({'Crvena zvezda mts': 'Crvena Zvezda', \n",
    "                             'Anadolu Efes SK': 'Anadolu Efes',\n",
    "                             'Fenerbahce Ulker': 'Fenerbahce',\n",
    "                             'Khimki M.': 'Khimki'})\n",
    "\n",
    "# Replace secondary teams names in 'AT' column\n",
    "df['AT'] = df['AT'].replace({'Crvena zvezda mts': 'Crvena Zvezda', \n",
    "                             'Anadolu Efes SK': 'Anadolu Efes',\n",
    "                             'Fenerbahce Ulker': 'Fenerbahce',\n",
    "                             'Khimki M.': 'Khimki'})\n",
    "\n",
    "# Replace secondary teams names in 'WINNER' column\n",
    "df['WINNER'] = df['WINNER'].replace({'Crvena zvezda mts': 'Crvena Zvezda', \n",
    "                             'Anadolu Efes SK': 'Anadolu Efes',\n",
    "                             'Fenerbahce Ulker': 'Fenerbahce',\n",
    "                             'Khimki M.': 'Khimki'})"
   ]
  },
  {
   "cell_type": "code",
   "execution_count": 11,
   "id": "3ffd857c",
   "metadata": {},
   "outputs": [],
   "source": [
    "# Delete instances with Chinese teams as they are not part of the EuroLeague\n",
    "df = df[(df['HT'] != 'Guandong') & (df['HT'] != 'Sichuan')]"
   ]
  },
  {
   "cell_type": "code",
   "execution_count": 12,
   "id": "6994d8e2",
   "metadata": {},
   "outputs": [],
   "source": [
    "# Get a list of all unique teams\n",
    "unique_teams = set(df['HT'].unique()).union(set(df['AT'].unique()))"
   ]
  },
  {
   "cell_type": "code",
   "execution_count": 13,
   "id": "03dc8de9",
   "metadata": {},
   "outputs": [],
   "source": [
    "# Replace NaN values with 0 in 'OTH' and 'OTA'\n",
    "df['OTH'].fillna(0, inplace=True)\n",
    "df['OTA'].fillna(0, inplace=True)\n",
    "\n",
    "# Add 'OTH' to 'Q4H' and 'OTA' to 'Q4A'\n",
    "df['Q4H'] = (df['Q4H'] + df['OTH']).astype(int)\n",
    "df['Q4A'] = (df['Q4A'] + df['OTA']).astype(int)\n",
    "\n",
    "# Add 'OTH' to 'Q4H' and 'OTA' to 'Q4A'\n",
    "df['P2H'] = (df['P2H'] + df['OTH']).astype(int)\n",
    "df['P2A'] = (df['P2A'] + df['OTA']).astype(int)"
   ]
  },
  {
   "cell_type": "code",
   "execution_count": 14,
   "id": "e6d6cf71",
   "metadata": {},
   "outputs": [],
   "source": [
    "# One-hot encode 'HT' and 'AT'\n",
    "df = pd.get_dummies(df, columns=['HT', 'AT'], drop_first=True)"
   ]
  },
  {
   "cell_type": "code",
   "execution_count": 15,
   "id": "2aa0ed98",
   "metadata": {},
   "outputs": [],
   "source": [
    "# Drop columns that are sums of other columns, overtime columns as they are now calculated in the 4th quarter column \n",
    "# and the target variable column\n",
    "\n",
    "X = df.drop(columns=['WINNER', 'OTH', 'OTA', 'Q1T', 'Q2T', 'Q3T', 'Q4T', 'P1T', 'P2T', 'HTT', 'FTT', 'GAPT'])  \n",
    "\n",
    "# 'WINNER' column is the target variable\n",
    "Y = df['WINNER']"
   ]
  },
  {
   "cell_type": "code",
   "execution_count": 16,
   "id": "8b521040",
   "metadata": {},
   "outputs": [],
   "source": [
    "# One-hot encode Y\n",
    "Y = pd.get_dummies(Y, drop_first=True)"
   ]
  },
  {
   "cell_type": "code",
   "execution_count": 17,
   "id": "1c8a0aa8",
   "metadata": {},
   "outputs": [],
   "source": [
    "# Split the data set on training and test sets\n",
    "x_train, x_test, y_train, y_test = model_selection.train_test_split(X, Y, train_size=0.7, stratify = Y, random_state = 42)"
   ]
  },
  {
   "cell_type": "code",
   "execution_count": 18,
   "id": "b2b02136",
   "metadata": {},
   "outputs": [],
   "source": [
    "# Create standardization scaler\n",
    "scaler = StandardScaler()"
   ]
  },
  {
   "cell_type": "code",
   "execution_count": 19,
   "id": "2c79ad08",
   "metadata": {},
   "outputs": [],
   "source": [
    "# List all the numerical_columns\n",
    "numerical_columns = ['HS', 'AS', 'Q1H', 'Q1A', 'Q2H', 'Q2A', 'Q3H', 'Q3A', 'Q4H', 'Q4A', 'P1H', 'P1A', 'P2H', 'P2A', 'GAPA1Q', 'GAPA2Q', 'GAPA3Q', 'GAPA4Q']"
   ]
  },
  {
   "cell_type": "code",
   "execution_count": 20,
   "id": "c25ec63a",
   "metadata": {},
   "outputs": [
    {
     "data": {
      "text/html": [
       "<style>#sk-container-id-1 {color: black;background-color: white;}#sk-container-id-1 pre{padding: 0;}#sk-container-id-1 div.sk-toggleable {background-color: white;}#sk-container-id-1 label.sk-toggleable__label {cursor: pointer;display: block;width: 100%;margin-bottom: 0;padding: 0.3em;box-sizing: border-box;text-align: center;}#sk-container-id-1 label.sk-toggleable__label-arrow:before {content: \"▸\";float: left;margin-right: 0.25em;color: #696969;}#sk-container-id-1 label.sk-toggleable__label-arrow:hover:before {color: black;}#sk-container-id-1 div.sk-estimator:hover label.sk-toggleable__label-arrow:before {color: black;}#sk-container-id-1 div.sk-toggleable__content {max-height: 0;max-width: 0;overflow: hidden;text-align: left;background-color: #f0f8ff;}#sk-container-id-1 div.sk-toggleable__content pre {margin: 0.2em;color: black;border-radius: 0.25em;background-color: #f0f8ff;}#sk-container-id-1 input.sk-toggleable__control:checked~div.sk-toggleable__content {max-height: 200px;max-width: 100%;overflow: auto;}#sk-container-id-1 input.sk-toggleable__control:checked~label.sk-toggleable__label-arrow:before {content: \"▾\";}#sk-container-id-1 div.sk-estimator input.sk-toggleable__control:checked~label.sk-toggleable__label {background-color: #d4ebff;}#sk-container-id-1 div.sk-label input.sk-toggleable__control:checked~label.sk-toggleable__label {background-color: #d4ebff;}#sk-container-id-1 input.sk-hidden--visually {border: 0;clip: rect(1px 1px 1px 1px);clip: rect(1px, 1px, 1px, 1px);height: 1px;margin: -1px;overflow: hidden;padding: 0;position: absolute;width: 1px;}#sk-container-id-1 div.sk-estimator {font-family: monospace;background-color: #f0f8ff;border: 1px dotted black;border-radius: 0.25em;box-sizing: border-box;margin-bottom: 0.5em;}#sk-container-id-1 div.sk-estimator:hover {background-color: #d4ebff;}#sk-container-id-1 div.sk-parallel-item::after {content: \"\";width: 100%;border-bottom: 1px solid gray;flex-grow: 1;}#sk-container-id-1 div.sk-label:hover label.sk-toggleable__label {background-color: #d4ebff;}#sk-container-id-1 div.sk-serial::before {content: \"\";position: absolute;border-left: 1px solid gray;box-sizing: border-box;top: 0;bottom: 0;left: 50%;z-index: 0;}#sk-container-id-1 div.sk-serial {display: flex;flex-direction: column;align-items: center;background-color: white;padding-right: 0.2em;padding-left: 0.2em;position: relative;}#sk-container-id-1 div.sk-item {position: relative;z-index: 1;}#sk-container-id-1 div.sk-parallel {display: flex;align-items: stretch;justify-content: center;background-color: white;position: relative;}#sk-container-id-1 div.sk-item::before, #sk-container-id-1 div.sk-parallel-item::before {content: \"\";position: absolute;border-left: 1px solid gray;box-sizing: border-box;top: 0;bottom: 0;left: 50%;z-index: -1;}#sk-container-id-1 div.sk-parallel-item {display: flex;flex-direction: column;z-index: 1;position: relative;background-color: white;}#sk-container-id-1 div.sk-parallel-item:first-child::after {align-self: flex-end;width: 50%;}#sk-container-id-1 div.sk-parallel-item:last-child::after {align-self: flex-start;width: 50%;}#sk-container-id-1 div.sk-parallel-item:only-child::after {width: 0;}#sk-container-id-1 div.sk-dashed-wrapped {border: 1px dashed gray;margin: 0 0.4em 0.5em 0.4em;box-sizing: border-box;padding-bottom: 0.4em;background-color: white;}#sk-container-id-1 div.sk-label label {font-family: monospace;font-weight: bold;display: inline-block;line-height: 1.2em;}#sk-container-id-1 div.sk-label-container {text-align: center;}#sk-container-id-1 div.sk-container {/* jupyter's `normalize.less` sets `[hidden] { display: none; }` but bootstrap.min.css set `[hidden] { display: none !important; }` so we also need the `!important` here to be able to override the default hidden behavior on the sphinx rendered scikit-learn.org. See: https://github.com/scikit-learn/scikit-learn/issues/21755 */display: inline-block !important;position: relative;}#sk-container-id-1 div.sk-text-repr-fallback {display: none;}</style><div id=\"sk-container-id-1\" class=\"sk-top-container\"><div class=\"sk-text-repr-fallback\"><pre>StandardScaler()</pre><b>In a Jupyter environment, please rerun this cell to show the HTML representation or trust the notebook. <br />On GitHub, the HTML representation is unable to render, please try loading this page with nbviewer.org.</b></div><div class=\"sk-container\" hidden><div class=\"sk-item\"><div class=\"sk-estimator sk-toggleable\"><input class=\"sk-toggleable__control sk-hidden--visually\" id=\"sk-estimator-id-1\" type=\"checkbox\" checked><label for=\"sk-estimator-id-1\" class=\"sk-toggleable__label sk-toggleable__label-arrow\">StandardScaler</label><div class=\"sk-toggleable__content\"><pre>StandardScaler()</pre></div></div></div></div></div>"
      ],
      "text/plain": [
       "StandardScaler()"
      ]
     },
     "execution_count": 20,
     "metadata": {},
     "output_type": "execute_result"
    }
   ],
   "source": [
    "# Fit the scaler on training set\n",
    "scaler.fit(x_train[numerical_columns])"
   ]
  },
  {
   "cell_type": "code",
   "execution_count": 21,
   "id": "f4c61850",
   "metadata": {},
   "outputs": [],
   "source": [
    "# Transform training and test set with the standardization scaler\n",
    "x_train[numerical_columns] = scaler.transform(x_train[numerical_columns])\n",
    "x_test[numerical_columns] = scaler.transform(x_test[numerical_columns])"
   ]
  },
  {
   "cell_type": "code",
   "execution_count": 22,
   "id": "39eb749d",
   "metadata": {},
   "outputs": [],
   "source": [
    "# Determine the size of input and output network layers\n",
    "number_of_features = X.shape[1]\n",
    "output_size = 26"
   ]
  },
  {
   "cell_type": "code",
   "execution_count": 23,
   "id": "d1b22657",
   "metadata": {},
   "outputs": [],
   "source": [
    "# Create the network structure\n",
    "model = Sequential([Input(shape=(number_of_features, )),\n",
    "                    Dense(units=200, activation='relu'),\n",
    "                    Dense(units=200, activation='relu'),\n",
    "                    Dense(units=200, activation='relu'),\n",
    "                    Dense(units=200, activation='relu'),\n",
    "                    Dense(units=output_size, activation='sigmoid')\n",
    "                   ])"
   ]
  },
  {
   "cell_type": "code",
   "execution_count": 24,
   "id": "b94a0ec5",
   "metadata": {},
   "outputs": [
    {
     "name": "stdout",
     "output_type": "stream",
     "text": [
      "Model: \"sequential\"\n",
      "_________________________________________________________________\n",
      " Layer (type)                Output Shape              Param #   \n",
      "=================================================================\n",
      " dense (Dense)               (None, 200)               14200     \n",
      "                                                                 \n",
      " dense_1 (Dense)             (None, 200)               40200     \n",
      "                                                                 \n",
      " dense_2 (Dense)             (None, 200)               40200     \n",
      "                                                                 \n",
      " dense_3 (Dense)             (None, 200)               40200     \n",
      "                                                                 \n",
      " dense_4 (Dense)             (None, 26)                5226      \n",
      "                                                                 \n",
      "=================================================================\n",
      "Total params: 140026 (546.98 KB)\n",
      "Trainable params: 140026 (546.98 KB)\n",
      "Non-trainable params: 0 (0.00 Byte)\n",
      "_________________________________________________________________\n"
     ]
    }
   ],
   "source": [
    "model.summary()"
   ]
  },
  {
   "cell_type": "code",
   "execution_count": 25,
   "id": "caf2b4af",
   "metadata": {},
   "outputs": [],
   "source": [
    "from tensorflow.keras.optimizers import Adam\n",
    "from tensorflow.keras.losses import BinaryCrossentropy"
   ]
  },
  {
   "cell_type": "code",
   "execution_count": 26,
   "id": "bc2ecbea",
   "metadata": {},
   "outputs": [],
   "source": [
    "# Create the model using Adam optimizer and BinaryCrossentropy loss function\n",
    "model.compile(loss=BinaryCrossentropy(), optimizer=Adam(learning_rate=0.0001), metrics=['accuracy'])"
   ]
  },
  {
   "cell_type": "code",
   "execution_count": 27,
   "id": "c519af85",
   "metadata": {},
   "outputs": [
    {
     "name": "stdout",
     "output_type": "stream",
     "text": [
      "Epoch 1/100\n",
      "18/18 [==============================] - 1s 10ms/step - loss: 0.6773 - accuracy: 0.0422 - val_loss: 0.6448 - val_accuracy: 0.0280\n",
      "Epoch 2/100\n",
      "18/18 [==============================] - 0s 3ms/step - loss: 0.6110 - accuracy: 0.0264 - val_loss: 0.5617 - val_accuracy: 0.0280\n",
      "Epoch 3/100\n",
      "18/18 [==============================] - 0s 3ms/step - loss: 0.5062 - accuracy: 0.0334 - val_loss: 0.4284 - val_accuracy: 0.0699\n",
      "Epoch 4/100\n",
      "18/18 [==============================] - 0s 2ms/step - loss: 0.3569 - accuracy: 0.0457 - val_loss: 0.2742 - val_accuracy: 0.0839\n",
      "Epoch 5/100\n",
      "18/18 [==============================] - 0s 2ms/step - loss: 0.2252 - accuracy: 0.0756 - val_loss: 0.1859 - val_accuracy: 0.1049\n",
      "Epoch 6/100\n",
      "18/18 [==============================] - 0s 2ms/step - loss: 0.1715 - accuracy: 0.1125 - val_loss: 0.1669 - val_accuracy: 0.0979\n",
      "Epoch 7/100\n",
      "18/18 [==============================] - 0s 2ms/step - loss: 0.1610 - accuracy: 0.1388 - val_loss: 0.1631 - val_accuracy: 0.0769\n",
      "Epoch 8/100\n",
      "18/18 [==============================] - 0s 2ms/step - loss: 0.1577 - accuracy: 0.1388 - val_loss: 0.1608 - val_accuracy: 0.0699\n",
      "Epoch 9/100\n",
      "18/18 [==============================] - 0s 2ms/step - loss: 0.1555 - accuracy: 0.1336 - val_loss: 0.1590 - val_accuracy: 0.0839\n",
      "Epoch 10/100\n",
      "18/18 [==============================] - 0s 2ms/step - loss: 0.1541 - accuracy: 0.1511 - val_loss: 0.1575 - val_accuracy: 0.0979\n",
      "Epoch 11/100\n",
      "18/18 [==============================] - 0s 2ms/step - loss: 0.1531 - accuracy: 0.1634 - val_loss: 0.1569 - val_accuracy: 0.0909\n",
      "Epoch 12/100\n",
      "18/18 [==============================] - 0s 2ms/step - loss: 0.1522 - accuracy: 0.1529 - val_loss: 0.1563 - val_accuracy: 0.0979\n",
      "Epoch 13/100\n",
      "18/18 [==============================] - 0s 2ms/step - loss: 0.1513 - accuracy: 0.1617 - val_loss: 0.1559 - val_accuracy: 0.1049\n",
      "Epoch 14/100\n",
      "18/18 [==============================] - 0s 2ms/step - loss: 0.1506 - accuracy: 0.1705 - val_loss: 0.1552 - val_accuracy: 0.1119\n",
      "Epoch 15/100\n",
      "18/18 [==============================] - 0s 2ms/step - loss: 0.1498 - accuracy: 0.1757 - val_loss: 0.1549 - val_accuracy: 0.1119\n",
      "Epoch 16/100\n",
      "18/18 [==============================] - 0s 2ms/step - loss: 0.1491 - accuracy: 0.1740 - val_loss: 0.1545 - val_accuracy: 0.1119\n",
      "Epoch 17/100\n",
      "18/18 [==============================] - 0s 2ms/step - loss: 0.1483 - accuracy: 0.1810 - val_loss: 0.1536 - val_accuracy: 0.1189\n",
      "Epoch 18/100\n",
      "18/18 [==============================] - 0s 2ms/step - loss: 0.1477 - accuracy: 0.1793 - val_loss: 0.1537 - val_accuracy: 0.1259\n",
      "Epoch 19/100\n",
      "18/18 [==============================] - 0s 2ms/step - loss: 0.1468 - accuracy: 0.1951 - val_loss: 0.1530 - val_accuracy: 0.1329\n",
      "Epoch 20/100\n",
      "18/18 [==============================] - 0s 2ms/step - loss: 0.1460 - accuracy: 0.1933 - val_loss: 0.1525 - val_accuracy: 0.1329\n",
      "Epoch 21/100\n",
      "18/18 [==============================] - 0s 2ms/step - loss: 0.1453 - accuracy: 0.1810 - val_loss: 0.1521 - val_accuracy: 0.1329\n",
      "Epoch 22/100\n",
      "18/18 [==============================] - 0s 2ms/step - loss: 0.1444 - accuracy: 0.2056 - val_loss: 0.1513 - val_accuracy: 0.1888\n",
      "Epoch 23/100\n",
      "18/18 [==============================] - 0s 2ms/step - loss: 0.1437 - accuracy: 0.2109 - val_loss: 0.1514 - val_accuracy: 0.1469\n",
      "Epoch 24/100\n",
      "18/18 [==============================] - 0s 2ms/step - loss: 0.1427 - accuracy: 0.2056 - val_loss: 0.1507 - val_accuracy: 0.1608\n",
      "Epoch 25/100\n",
      "18/18 [==============================] - 0s 2ms/step - loss: 0.1418 - accuracy: 0.2267 - val_loss: 0.1501 - val_accuracy: 0.1888\n",
      "Epoch 26/100\n",
      "18/18 [==============================] - 0s 2ms/step - loss: 0.1409 - accuracy: 0.2337 - val_loss: 0.1496 - val_accuracy: 0.1748\n",
      "Epoch 27/100\n",
      "18/18 [==============================] - 0s 2ms/step - loss: 0.1399 - accuracy: 0.2302 - val_loss: 0.1494 - val_accuracy: 0.1748\n",
      "Epoch 28/100\n",
      "18/18 [==============================] - 0s 2ms/step - loss: 0.1390 - accuracy: 0.2496 - val_loss: 0.1484 - val_accuracy: 0.1958\n",
      "Epoch 29/100\n",
      "18/18 [==============================] - 0s 2ms/step - loss: 0.1378 - accuracy: 0.2671 - val_loss: 0.1480 - val_accuracy: 0.1748\n",
      "Epoch 30/100\n",
      "18/18 [==============================] - 0s 2ms/step - loss: 0.1370 - accuracy: 0.2707 - val_loss: 0.1471 - val_accuracy: 0.2168\n",
      "Epoch 31/100\n",
      "18/18 [==============================] - 0s 2ms/step - loss: 0.1356 - accuracy: 0.2724 - val_loss: 0.1468 - val_accuracy: 0.2028\n",
      "Epoch 32/100\n",
      "18/18 [==============================] - 0s 2ms/step - loss: 0.1345 - accuracy: 0.3005 - val_loss: 0.1458 - val_accuracy: 0.2308\n",
      "Epoch 33/100\n",
      "18/18 [==============================] - 0s 2ms/step - loss: 0.1331 - accuracy: 0.2988 - val_loss: 0.1453 - val_accuracy: 0.2448\n",
      "Epoch 34/100\n",
      "18/18 [==============================] - 0s 2ms/step - loss: 0.1317 - accuracy: 0.3445 - val_loss: 0.1447 - val_accuracy: 0.2448\n",
      "Epoch 35/100\n",
      "18/18 [==============================] - 0s 2ms/step - loss: 0.1304 - accuracy: 0.3322 - val_loss: 0.1439 - val_accuracy: 0.2517\n",
      "Epoch 36/100\n",
      "18/18 [==============================] - 0s 2ms/step - loss: 0.1290 - accuracy: 0.3515 - val_loss: 0.1430 - val_accuracy: 0.2657\n",
      "Epoch 37/100\n",
      "18/18 [==============================] - 0s 2ms/step - loss: 0.1274 - accuracy: 0.3603 - val_loss: 0.1424 - val_accuracy: 0.2727\n",
      "Epoch 38/100\n",
      "18/18 [==============================] - 0s 2ms/step - loss: 0.1258 - accuracy: 0.3796 - val_loss: 0.1413 - val_accuracy: 0.3007\n",
      "Epoch 39/100\n",
      "18/18 [==============================] - 0s 2ms/step - loss: 0.1241 - accuracy: 0.3989 - val_loss: 0.1401 - val_accuracy: 0.3007\n",
      "Epoch 40/100\n",
      "18/18 [==============================] - 0s 2ms/step - loss: 0.1222 - accuracy: 0.4095 - val_loss: 0.1398 - val_accuracy: 0.3077\n",
      "Epoch 41/100\n",
      "18/18 [==============================] - 0s 2ms/step - loss: 0.1205 - accuracy: 0.4253 - val_loss: 0.1381 - val_accuracy: 0.3147\n",
      "Epoch 42/100\n",
      "18/18 [==============================] - 0s 2ms/step - loss: 0.1184 - accuracy: 0.4587 - val_loss: 0.1373 - val_accuracy: 0.3287\n",
      "Epoch 43/100\n",
      "18/18 [==============================] - 0s 2ms/step - loss: 0.1162 - accuracy: 0.4640 - val_loss: 0.1359 - val_accuracy: 0.3427\n",
      "Epoch 44/100\n",
      "18/18 [==============================] - 0s 2ms/step - loss: 0.1141 - accuracy: 0.4833 - val_loss: 0.1348 - val_accuracy: 0.3636\n",
      "Epoch 45/100\n",
      "18/18 [==============================] - 0s 2ms/step - loss: 0.1118 - accuracy: 0.5097 - val_loss: 0.1332 - val_accuracy: 0.3706\n",
      "Epoch 46/100\n",
      "18/18 [==============================] - 0s 2ms/step - loss: 0.1097 - accuracy: 0.5272 - val_loss: 0.1321 - val_accuracy: 0.3916\n",
      "Epoch 47/100\n",
      "18/18 [==============================] - 0s 2ms/step - loss: 0.1071 - accuracy: 0.5466 - val_loss: 0.1307 - val_accuracy: 0.3846\n",
      "Epoch 48/100\n",
      "18/18 [==============================] - 0s 2ms/step - loss: 0.1049 - accuracy: 0.5571 - val_loss: 0.1292 - val_accuracy: 0.3916\n",
      "Epoch 49/100\n",
      "18/18 [==============================] - 0s 2ms/step - loss: 0.1023 - accuracy: 0.5923 - val_loss: 0.1279 - val_accuracy: 0.3916\n",
      "Epoch 50/100\n",
      "18/18 [==============================] - 0s 2ms/step - loss: 0.1001 - accuracy: 0.5817 - val_loss: 0.1260 - val_accuracy: 0.3986\n",
      "Epoch 51/100\n",
      "18/18 [==============================] - 0s 2ms/step - loss: 0.0976 - accuracy: 0.6257 - val_loss: 0.1244 - val_accuracy: 0.4056\n",
      "Epoch 52/100\n",
      "18/18 [==============================] - 0s 2ms/step - loss: 0.0952 - accuracy: 0.6134 - val_loss: 0.1229 - val_accuracy: 0.4056\n",
      "Epoch 53/100\n",
      "18/18 [==============================] - 0s 2ms/step - loss: 0.0926 - accuracy: 0.6362 - val_loss: 0.1210 - val_accuracy: 0.4266\n",
      "Epoch 54/100\n",
      "18/18 [==============================] - 0s 2ms/step - loss: 0.0901 - accuracy: 0.6503 - val_loss: 0.1198 - val_accuracy: 0.4545\n",
      "Epoch 55/100\n",
      "18/18 [==============================] - 0s 2ms/step - loss: 0.0879 - accuracy: 0.6591 - val_loss: 0.1184 - val_accuracy: 0.4406\n",
      "Epoch 56/100\n",
      "18/18 [==============================] - 0s 2ms/step - loss: 0.0854 - accuracy: 0.6696 - val_loss: 0.1169 - val_accuracy: 0.4545\n",
      "Epoch 57/100\n",
      "18/18 [==============================] - 0s 2ms/step - loss: 0.0833 - accuracy: 0.6872 - val_loss: 0.1151 - val_accuracy: 0.4755\n",
      "Epoch 58/100\n",
      "18/18 [==============================] - 0s 2ms/step - loss: 0.0810 - accuracy: 0.6960 - val_loss: 0.1139 - val_accuracy: 0.4685\n",
      "Epoch 59/100\n",
      "18/18 [==============================] - 0s 2ms/step - loss: 0.0787 - accuracy: 0.7153 - val_loss: 0.1126 - val_accuracy: 0.4755\n",
      "Epoch 60/100\n",
      "18/18 [==============================] - 0s 2ms/step - loss: 0.0768 - accuracy: 0.7100 - val_loss: 0.1108 - val_accuracy: 0.4685\n",
      "Epoch 61/100\n",
      "18/18 [==============================] - 0s 2ms/step - loss: 0.0744 - accuracy: 0.7258 - val_loss: 0.1097 - val_accuracy: 0.4825\n",
      "Epoch 62/100\n",
      "18/18 [==============================] - 0s 2ms/step - loss: 0.0724 - accuracy: 0.7329 - val_loss: 0.1089 - val_accuracy: 0.5175\n",
      "Epoch 63/100\n",
      "18/18 [==============================] - 0s 2ms/step - loss: 0.0702 - accuracy: 0.7434 - val_loss: 0.1066 - val_accuracy: 0.4965\n",
      "Epoch 64/100\n",
      "18/18 [==============================] - 0s 2ms/step - loss: 0.0685 - accuracy: 0.7575 - val_loss: 0.1056 - val_accuracy: 0.5315\n",
      "Epoch 65/100\n",
      "18/18 [==============================] - 0s 2ms/step - loss: 0.0664 - accuracy: 0.7680 - val_loss: 0.1042 - val_accuracy: 0.5035\n",
      "Epoch 66/100\n",
      "18/18 [==============================] - 0s 2ms/step - loss: 0.0645 - accuracy: 0.7821 - val_loss: 0.1040 - val_accuracy: 0.5385\n",
      "Epoch 67/100\n",
      "18/18 [==============================] - 0s 2ms/step - loss: 0.0624 - accuracy: 0.7856 - val_loss: 0.1019 - val_accuracy: 0.5245\n",
      "Epoch 68/100\n",
      "18/18 [==============================] - 0s 2ms/step - loss: 0.0609 - accuracy: 0.8014 - val_loss: 0.1020 - val_accuracy: 0.5455\n",
      "Epoch 69/100\n",
      "18/18 [==============================] - 0s 2ms/step - loss: 0.0591 - accuracy: 0.7944 - val_loss: 0.1005 - val_accuracy: 0.5594\n",
      "Epoch 70/100\n",
      "18/18 [==============================] - 0s 2ms/step - loss: 0.0575 - accuracy: 0.8155 - val_loss: 0.0995 - val_accuracy: 0.5455\n",
      "Epoch 71/100\n",
      "18/18 [==============================] - 0s 2ms/step - loss: 0.0557 - accuracy: 0.8190 - val_loss: 0.0992 - val_accuracy: 0.5594\n",
      "Epoch 72/100\n",
      "18/18 [==============================] - 0s 2ms/step - loss: 0.0543 - accuracy: 0.8330 - val_loss: 0.0978 - val_accuracy: 0.5874\n",
      "Epoch 73/100\n",
      "18/18 [==============================] - 0s 2ms/step - loss: 0.0529 - accuracy: 0.8330 - val_loss: 0.0973 - val_accuracy: 0.5455\n",
      "Epoch 74/100\n",
      "18/18 [==============================] - 0s 2ms/step - loss: 0.0512 - accuracy: 0.8436 - val_loss: 0.0963 - val_accuracy: 0.5874\n",
      "Epoch 75/100\n",
      "18/18 [==============================] - 0s 2ms/step - loss: 0.0497 - accuracy: 0.8576 - val_loss: 0.0958 - val_accuracy: 0.6084\n",
      "Epoch 76/100\n",
      "18/18 [==============================] - 0s 2ms/step - loss: 0.0481 - accuracy: 0.8524 - val_loss: 0.0945 - val_accuracy: 0.6154\n",
      "Epoch 77/100\n",
      "18/18 [==============================] - 0s 2ms/step - loss: 0.0467 - accuracy: 0.8629 - val_loss: 0.0942 - val_accuracy: 0.6224\n",
      "Epoch 78/100\n",
      "18/18 [==============================] - 0s 2ms/step - loss: 0.0454 - accuracy: 0.8682 - val_loss: 0.0935 - val_accuracy: 0.6294\n",
      "Epoch 79/100\n",
      "18/18 [==============================] - 0s 2ms/step - loss: 0.0443 - accuracy: 0.8664 - val_loss: 0.0930 - val_accuracy: 0.6364\n",
      "Epoch 80/100\n",
      "18/18 [==============================] - 0s 2ms/step - loss: 0.0430 - accuracy: 0.8752 - val_loss: 0.0922 - val_accuracy: 0.6434\n",
      "Epoch 81/100\n",
      "18/18 [==============================] - 0s 2ms/step - loss: 0.0418 - accuracy: 0.8822 - val_loss: 0.0916 - val_accuracy: 0.6364\n",
      "Epoch 82/100\n",
      "18/18 [==============================] - 0s 2ms/step - loss: 0.0407 - accuracy: 0.8893 - val_loss: 0.0916 - val_accuracy: 0.6364\n",
      "Epoch 83/100\n",
      "18/18 [==============================] - 0s 2ms/step - loss: 0.0393 - accuracy: 0.8928 - val_loss: 0.0909 - val_accuracy: 0.6503\n",
      "Epoch 84/100\n",
      "18/18 [==============================] - 0s 2ms/step - loss: 0.0382 - accuracy: 0.8998 - val_loss: 0.0906 - val_accuracy: 0.6503\n",
      "Epoch 85/100\n",
      "18/18 [==============================] - 0s 2ms/step - loss: 0.0371 - accuracy: 0.9086 - val_loss: 0.0908 - val_accuracy: 0.6434\n",
      "Epoch 86/100\n",
      "18/18 [==============================] - 0s 2ms/step - loss: 0.0361 - accuracy: 0.9033 - val_loss: 0.0894 - val_accuracy: 0.6434\n",
      "Epoch 87/100\n",
      "18/18 [==============================] - 0s 2ms/step - loss: 0.0350 - accuracy: 0.9139 - val_loss: 0.0893 - val_accuracy: 0.6434\n",
      "Epoch 88/100\n",
      "18/18 [==============================] - 0s 2ms/step - loss: 0.0338 - accuracy: 0.9156 - val_loss: 0.0891 - val_accuracy: 0.6434\n",
      "Epoch 89/100\n",
      "18/18 [==============================] - 0s 2ms/step - loss: 0.0329 - accuracy: 0.9209 - val_loss: 0.0891 - val_accuracy: 0.6503\n",
      "Epoch 90/100\n",
      "18/18 [==============================] - 0s 2ms/step - loss: 0.0320 - accuracy: 0.9244 - val_loss: 0.0880 - val_accuracy: 0.6503\n",
      "Epoch 91/100\n",
      "18/18 [==============================] - 0s 2ms/step - loss: 0.0309 - accuracy: 0.9279 - val_loss: 0.0889 - val_accuracy: 0.6503\n",
      "Epoch 92/100\n",
      "18/18 [==============================] - 0s 2ms/step - loss: 0.0302 - accuracy: 0.9350 - val_loss: 0.0879 - val_accuracy: 0.6503\n",
      "Epoch 93/100\n",
      "18/18 [==============================] - 0s 2ms/step - loss: 0.0292 - accuracy: 0.9279 - val_loss: 0.0885 - val_accuracy: 0.6503\n",
      "Epoch 94/100\n",
      "18/18 [==============================] - 0s 2ms/step - loss: 0.0283 - accuracy: 0.9367 - val_loss: 0.0878 - val_accuracy: 0.6573\n",
      "Epoch 95/100\n",
      "18/18 [==============================] - 0s 2ms/step - loss: 0.0275 - accuracy: 0.9420 - val_loss: 0.0885 - val_accuracy: 0.6503\n",
      "Epoch 96/100\n",
      "18/18 [==============================] - 0s 2ms/step - loss: 0.0268 - accuracy: 0.9367 - val_loss: 0.0877 - val_accuracy: 0.6643\n",
      "Epoch 97/100\n",
      "18/18 [==============================] - 0s 2ms/step - loss: 0.0260 - accuracy: 0.9385 - val_loss: 0.0881 - val_accuracy: 0.6573\n",
      "Epoch 98/100\n",
      "18/18 [==============================] - 0s 2ms/step - loss: 0.0251 - accuracy: 0.9438 - val_loss: 0.0876 - val_accuracy: 0.6503\n",
      "Epoch 99/100\n",
      "18/18 [==============================] - 0s 2ms/step - loss: 0.0244 - accuracy: 0.9420 - val_loss: 0.0876 - val_accuracy: 0.6503\n",
      "Epoch 100/100\n",
      "18/18 [==============================] - 0s 2ms/step - loss: 0.0237 - accuracy: 0.9525 - val_loss: 0.0877 - val_accuracy: 0.6434\n"
     ]
    }
   ],
   "source": [
    "# Train the model for 50 epochs\n",
    "history = model.fit(x_train, y_train, epochs=100, batch_size=32, validation_split=0.2, verbose=1)"
   ]
  },
  {
   "cell_type": "code",
   "execution_count": 28,
   "id": "1c9c83b3",
   "metadata": {},
   "outputs": [],
   "source": [
    "epochs = history.epoch\n",
    "loss = history.history['loss']\n",
    "validation_loss = history.history['val_loss']"
   ]
  },
  {
   "cell_type": "code",
   "execution_count": 29,
   "id": "93668f33",
   "metadata": {},
   "outputs": [
    {
     "data": {
      "image/png": "[encoded data removed]",
      "text/plain": [
       "<Figure size 640x480 with 1 Axes>"
      ]
     },
     "metadata": {},
     "output_type": "display_data"
    }
   ],
   "source": [
    "# Showing the change of the loss function over 50 epochs\n",
    "plt.plot(epochs, loss, label='training')\n",
    "plt.plot(epochs, validation_loss, label='validation')\n",
    "plt.xlabel('Epochs')\n",
    "plt.ylabel('Loss')\n",
    "plt.legend(loc='best')\n",
    "plt.show()"
   ]
  },
  {
   "cell_type": "code",
   "execution_count": 30,
   "id": "d69cba09",
   "metadata": {},
   "outputs": [],
   "source": [
    "acc = history.history['accuracy']\n",
    "validation_acc = history.history['val_accuracy']"
   ]
  },
  {
   "cell_type": "code",
   "execution_count": 31,
   "id": "5f4a9ede",
   "metadata": {},
   "outputs": [
    {
     "data": {
      "image/png": "[encoded data removed]",
      "text/plain": [
       "<Figure size 640x480 with 1 Axes>"
      ]
     },
     "metadata": {},
     "output_type": "display_data"
    }
   ],
   "source": [
    "# Showing the change of the accuracy over 50 epochs\n",
    "plt.plot(epochs, acc, label='training')\n",
    "plt.plot(epochs, validation_acc, label='validation')\n",
    "plt.xlabel('Epochs')\n",
    "plt.ylabel('Accuracy')\n",
    "plt.legend(loc='best')\n",
    "plt.show()"
   ]
  },
  {
   "cell_type": "code",
   "execution_count": 32,
   "id": "769b0e12",
   "metadata": {},
   "outputs": [],
   "source": [
    "# Final model structure after evaluation\n",
    "final_model = Sequential([Input(shape=(number_of_features, )),\n",
    "                    Dense(units=200, activation='relu'),\n",
    "                    Dense(units=200, activation='relu'),\n",
    "                    Dense(units=200, activation='relu'),\n",
    "                    Dense(units=200, activation='relu'),\n",
    "                    Dense(units=output_size, activation='sigmoid')\n",
    "                   ])"
   ]
  },
  {
   "cell_type": "code",
   "execution_count": 33,
   "id": "235f0832",
   "metadata": {},
   "outputs": [],
   "source": [
    "# Creating final model\n",
    "final_model.compile(loss=BinaryCrossentropy(), optimizer=Adam(learning_rate=0.0001), metrics=['accuracy'])"
   ]
  },
  {
   "cell_type": "code",
   "execution_count": 34,
   "id": "7e458a75",
   "metadata": {},
   "outputs": [],
   "source": [
    "# Training final model\n",
    "history = final_model.fit(x_train, y_train, epochs=100, batch_size=32, verbose=0)"
   ]
  },
  {
   "cell_type": "code",
   "execution_count": 35,
   "id": "c3e951f8",
   "metadata": {},
   "outputs": [
    {
     "name": "stdout",
     "output_type": "stream",
     "text": [
      "23/23 [==============================] - 0s 734us/step - loss: 0.0162 - accuracy: 0.9789\n"
     ]
    }
   ],
   "source": [
    "# Final model evaluation on training set\n",
    "train_scores = final_model.evaluate(x_train, y_train, batch_size=32)"
   ]
  },
  {
   "cell_type": "code",
   "execution_count": 36,
   "id": "c07bdbff",
   "metadata": {},
   "outputs": [
    {
     "name": "stdout",
     "output_type": "stream",
     "text": [
      "10/10 [==============================] - 0s 872us/step - loss: 0.0776 - accuracy: 0.7190\n"
     ]
    }
   ],
   "source": [
    "# Final model evaluation on test set\n",
    "test_scores = final_model.evaluate(x_test, y_test, batch_size=32)"
   ]
  },
  {
   "cell_type": "code",
   "execution_count": null,
   "id": "f7fe15af",
   "metadata": {},
   "outputs": [],
   "source": []
  }
 ],
 "metadata": {
  "kernelspec": {
   "display_name": "Python 3 (ipykernel)",
   "language": "python",
   "name": "python3"
  },
  "language_info": {
   "codemirror_mode": {
    "name": "ipython",
    "version": 3
   },
   "file_extension": ".py",
   "mimetype": "text/x-python",
   "name": "python",
   "nbconvert_exporter": "python",
   "pygments_lexer": "ipython3",
   "version": "3.11.2"
  }
 },
 "nbformat": 4,
 "nbformat_minor": 5
}
